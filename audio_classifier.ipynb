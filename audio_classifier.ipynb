{
 "cells": [
  {
   "cell_type": "code",
   "execution_count": 16,
   "metadata": {},
   "outputs": [
    {
     "name": "stdout",
     "output_type": "stream",
     "text": [
      "(32, 128, 862) tf.Tensor(\n",
      "[1. 1. 1. 1. 1. 1. 1. 1. 1. 1. 1. 1. 1. 1. 1. 1. 1. 1. 1. 1. 1. 1. 1. 1.\n",
      " 1. 1. 1. 1. 1. 1. 0. 0.], shape=(32,), dtype=float32)\n"
     ]
    },
    {
     "name": "stderr",
     "output_type": "stream",
     "text": [
      "2024-10-19 17:23:53.501376: I tensorflow/core/framework/local_rendezvous.cc:404] Local rendezvous is aborting with status: OUT_OF_RANGE: End of sequence\n"
     ]
    }
   ],
   "source": [
    "import os\n",
    "from matplotlib import pyplot as plt\n",
    "import tensorflow as tf\n",
    "import tensorflow_io as tfio\n",
    "import librosa\n",
    "import numpy as np\n",
    "\n",
    "# Define file paths\n",
    "positive_folder = os.path.join('./Audio/drone')\n",
    "negative_folder = os.path.join('./Audio/not_drone')\n",
    "\n",
    "# Load files into TensorFlow datasets\n",
    "pos = tf.data.Dataset.list_files(positive_folder + '/*.wav')\n",
    "neg = tf.data.Dataset.list_files(negative_folder + '/*.wav')\n",
    "\n",
    "# Assign labels to the datasets\n",
    "positives = tf.data.Dataset.zip((pos, tf.data.Dataset.from_tensor_slices(tf.ones(len(pos)))))\n",
    "negatives = tf.data.Dataset.zip((neg, tf.data.Dataset.from_tensor_slices(tf.zeros(len(neg)))))\n",
    "\n",
    "# Combine the datasets\n",
    "data = positives.concatenate(negatives)\n",
    "\n",
    "# Function to load and preprocess audio files\n",
    "def load_wav_mono(filename):\n",
    "    # Load encoded wav file\n",
    "    file_contents = tf.io.read_file(filename)\n",
    "    # Decode wav (tensors by channels)\n",
    "    wav, sample_rate = tf.audio.decode_wav(file_contents, desired_channels=1)\n",
    "    # Removes trailing axis\n",
    "    wav = tf.squeeze(wav, axis=-1)\n",
    "    return wav, sample_rate\n",
    "\n",
    "# Function to convert audio to spectrogram\n",
    "def audio_to_spectrogram(wav, sample_rate):\n",
    "    spectrogram = librosa.feature.melspectrogram(y=wav.numpy(), sr=sample_rate.numpy(), n_mels=128)\n",
    "    spectrogram = librosa.power_to_db(spectrogram, ref=np.max)\n",
    "    return spectrogram\n",
    "\n",
    "# Function to process each element in the dataset\n",
    "def preprocess(file_path, label):\n",
    "    wav, sample_rate = load_wav_mono(file_path)\n",
    "    spectrogram = tf.py_function(audio_to_spectrogram, [wav, sample_rate], tf.float32)\n",
    "    return spectrogram, label\n",
    "\n",
    "# Apply the preprocessing function to the dataset\n",
    "data = data.map(lambda file_path, label: preprocess(file_path, label))\n",
    "\n",
    "# Batch the data\n",
    "data = data.batch(32)\n",
    "\n",
    "# Prefetch the data for performance optimization\n",
    "data = data.prefetch(tf.data.experimental.AUTOTUNE)\n",
    "\n",
    "# Print the dataset to verify\n",
    "for spectrogram, label in data.take(1):\n",
    "    print(spectrogram.shape, label)\n",
    "    \n",
    "    \n",
    "    "
   ]
  },
  {
   "cell_type": "code",
   "execution_count": 17,
   "metadata": {},
   "outputs": [
    {
     "name": "stdout",
     "output_type": "stream",
     "text": [
      "Mean length: 2\n",
      "Min length: 2\n",
      "Max length: 2\n"
     ]
    }
   ],
   "source": [
    "\n",
    "# Calculate the length of each audio file\n",
    "lengths = []\n",
    "for file in os.listdir(positive_folder):\n",
    "    tensor_wave = load_wav_mono(os.path.join(positive_folder, file))\n",
    "    lengths.append(len(tensor_wave))\n",
    "\n",
    "# Convert lengths to a TensorFlow tensor\n",
    "lengths_tensor = tf.constant(lengths, dtype=tf.int32)\n",
    "\n",
    "# Calculate mean, min, and max lengths\n",
    "mean_length = tf.math.reduce_mean(lengths_tensor)\n",
    "min_length = tf.math.reduce_min(lengths_tensor)\n",
    "max_length = tf.math.reduce_max(lengths_tensor)\n",
    "\n",
    "# Print the results\n",
    "print(f\"Mean length: {mean_length.numpy()}\")\n",
    "print(f\"Min length: {min_length.numpy()}\")\n",
    "print(f\"Max length: {max_length.numpy()}\")\n",
    "\n",
    "\n"
   ]
  }
 ],
 "metadata": {
  "kernelspec": {
   "display_name": ".venv",
   "language": "python",
   "name": "python3"
  },
  "language_info": {
   "codemirror_mode": {
    "name": "ipython",
    "version": 3
   },
   "file_extension": ".py",
   "mimetype": "text/x-python",
   "name": "python",
   "nbconvert_exporter": "python",
   "pygments_lexer": "ipython3",
   "version": "3.12.6"
  }
 },
 "nbformat": 4,
 "nbformat_minor": 2
}
