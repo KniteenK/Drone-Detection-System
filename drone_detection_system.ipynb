{
  "metadata": {
    "kernelspec": {
      "language": "python",
      "display_name": "Python 3",
      "name": "python3"
    },
    "language_info": {
      "name": "python",
      "version": "3.10.14",
      "mimetype": "text/x-python",
      "codemirror_mode": {
        "name": "ipython",
        "version": 3
      },
      "pygments_lexer": "ipython3",
      "nbconvert_exporter": "python",
      "file_extension": ".py"
    },
    "kaggle": {
      "accelerator": "none",
      "dataSources": [
        {
          "sourceId": 9691428,
          "sourceType": "datasetVersion",
          "datasetId": 5925067
        }
      ],
      "dockerImageVersionId": 30786,
      "isInternetEnabled": true,
      "language": "python",
      "sourceType": "notebook",
      "isGpuEnabled": false
    },
    "colab": {
      "name": "drone_detection_system",
      "provenance": [],
      "include_colab_link": true
    }
  },
  "nbformat_minor": 0,
  "nbformat": 4,
  "cells": [
    {
      "cell_type": "markdown",
      "metadata": {
        "id": "view-in-github",
        "colab_type": "text"
      },
      "source": [
        "<a href=\"https://colab.research.google.com/github/KniteenK/Drone-Detection-System/blob/main/drone_detection_system.ipynb\" target=\"_parent\"><img src=\"https://colab.research.google.com/assets/colab-badge.svg\" alt=\"Open In Colab\"/></a>"
      ]
    },
    {
      "source": [
        "# IMPORTANT: SOME KAGGLE DATA SOURCES ARE PRIVATE\n",
        "# RUN THIS CELL IN ORDER TO IMPORT YOUR KAGGLE DATA SOURCES.\n",
        "import kagglehub\n",
        "kagglehub.login()\n"
      ],
      "metadata": {
        "id": "TDjZnIu58dt1"
      },
      "cell_type": "code",
      "outputs": [],
      "execution_count": null
    },
    {
      "source": [
        "# IMPORTANT: RUN THIS CELL IN ORDER TO IMPORT YOUR KAGGLE DATA SOURCES,\n",
        "# THEN FEEL FREE TO DELETE THIS CELL.\n",
        "# NOTE: THIS NOTEBOOK ENVIRONMENT DIFFERS FROM KAGGLE'S PYTHON\n",
        "# ENVIRONMENT SO THERE MAY BE MISSING LIBRARIES USED BY YOUR\n",
        "# NOTEBOOK.\n",
        "\n",
        "tacticularcancer_audio_dataset_path = kagglehub.dataset_download('tacticularcancer/audio-dataset')\n",
        "\n",
        "print('Data source import complete.')\n"
      ],
      "metadata": {
        "id": "ip8E3cx18dt5"
      },
      "cell_type": "code",
      "outputs": [],
      "execution_count": null
    },
    {
      "cell_type": "code",
      "source": [
        "# This Python 3 environment comes with many helpful analytics libraries installed\n",
        "# It is defined by the kaggle/python Docker image: https://github.com/kaggle/docker-python\n",
        "# For example, here's several helpful packages to load\n",
        "\n",
        "import numpy as np # linear algebra\n",
        "import pandas as pd # data processing, CSV file I/O (e.g. pd.read_csv)\n",
        "from scipy.io import wavfile\n",
        "import matplotlib.pyplot as plt\n",
        "import librosa\n",
        "import librosa.display\n",
        "import os\n",
        "\n",
        "# You can write up to 20GB to the current directory (/kaggle/working/) that gets preserved as output when you create a version using \"Save & Run All\"\n",
        "# You can also write temporary files to /kaggle/temp/, but they won't be saved outside of the current session"
      ],
      "metadata": {
        "_uuid": "8f2839f25d086af736a60e9eeb907d3b93b6e0e5",
        "_cell_guid": "b1076dfc-b9ad-4769-8c92-a6c4dae69d19",
        "execution": {
          "iopub.status.busy": "2024-10-23T07:24:09.703063Z",
          "iopub.execute_input": "2024-10-23T07:24:09.704084Z",
          "iopub.status.idle": "2024-10-23T07:24:09.71165Z",
          "shell.execute_reply.started": "2024-10-23T07:24:09.704004Z",
          "shell.execute_reply": "2024-10-23T07:24:09.71035Z"
        },
        "trusted": true,
        "id": "4E_yOlHi8dt6"
      },
      "outputs": [],
      "execution_count": null
    },
    {
      "cell_type": "code",
      "source": [
        "data = \"/kaggle/input/audio-dataset/Audio\""
      ],
      "metadata": {
        "execution": {
          "iopub.status.busy": "2024-10-23T07:24:09.971198Z",
          "iopub.execute_input": "2024-10-23T07:24:09.971699Z",
          "iopub.status.idle": "2024-10-23T07:24:09.977248Z",
          "shell.execute_reply.started": "2024-10-23T07:24:09.971652Z",
          "shell.execute_reply": "2024-10-23T07:24:09.976071Z"
        },
        "trusted": true,
        "id": "pwyt753w8dt6"
      },
      "outputs": [],
      "execution_count": null
    },
    {
      "cell_type": "code",
      "source": [
        "def get_wav_info(file_path):\n",
        "    try:\n",
        "        sampling_rate, data = wavfile.read(file_path)\n",
        "        duration = len(data) / sampling_rate\n",
        "        return {\"file_path\": file_path, \"sampling_rate\": sampling_rate, \"duration\": duration}\n",
        "    except Exception as e:\n",
        "        return {\"file_path\": file_path, \"error\": str(e)}"
      ],
      "metadata": {
        "execution": {
          "iopub.status.busy": "2024-10-23T07:24:10.788389Z",
          "iopub.execute_input": "2024-10-23T07:24:10.788979Z",
          "iopub.status.idle": "2024-10-23T07:24:10.797449Z",
          "shell.execute_reply.started": "2024-10-23T07:24:10.788921Z",
          "shell.execute_reply": "2024-10-23T07:24:10.795825Z"
        },
        "trusted": true,
        "id": "XDBuCe398dt7"
      },
      "outputs": [],
      "execution_count": null
    },
    {
      "cell_type": "code",
      "source": [
        "wav_files = [f for f in os.listdir(data) if f.endswith('.wav')]\n",
        "\n",
        "db = [get_wav_info(os.path.join(data, wav_file)) for wav_file in wav_files]\n",
        "\n",
        "df = pd.DataFrame(db)\n",
        "\n",
        "print(df)"
      ],
      "metadata": {
        "execution": {
          "iopub.status.busy": "2024-10-23T07:24:11.937164Z",
          "iopub.execute_input": "2024-10-23T07:24:11.937691Z",
          "iopub.status.idle": "2024-10-23T07:24:14.272064Z",
          "shell.execute_reply.started": "2024-10-23T07:24:11.937645Z",
          "shell.execute_reply": "2024-10-23T07:24:14.270735Z"
        },
        "trusted": true,
        "id": "lsru_iXt8dt7"
      },
      "outputs": [],
      "execution_count": null
    },
    {
      "cell_type": "code",
      "source": [
        "df.sample(5)"
      ],
      "metadata": {
        "execution": {
          "iopub.status.busy": "2024-10-23T07:24:15.743538Z",
          "iopub.execute_input": "2024-10-23T07:24:15.743963Z",
          "iopub.status.idle": "2024-10-23T07:24:15.76668Z",
          "shell.execute_reply.started": "2024-10-23T07:24:15.743924Z",
          "shell.execute_reply": "2024-10-23T07:24:15.765102Z"
        },
        "trusted": true,
        "id": "LG-CHXsv8dt8"
      },
      "outputs": [],
      "execution_count": null
    },
    {
      "cell_type": "code",
      "source": [
        "for ind, row in df.iterrows():\n",
        "    audio_file_path = row['file_path']\n",
        "\n",
        "    # Load the audio file\n",
        "    audio_data, sr = librosa.load(audio_file_path, sr=None)\n",
        "\n",
        "    # Plot the waveform\n",
        "    plt.figure(figsize=(12, 4))\n",
        "    librosa.display.waveshow(audio_data, sr=sr)\n",
        "    plt.title(f\"Waveform - {os.path.basename(audio_file_path)}\")\n",
        "    plt.xlabel(\"Time (s)\")\n",
        "    plt.ylabel(\"Amplitude\")\n",
        "    plt.show()"
      ],
      "metadata": {
        "execution": {
          "iopub.status.busy": "2024-10-23T07:25:09.175657Z",
          "iopub.execute_input": "2024-10-23T07:25:09.176103Z",
          "iopub.status.idle": "2024-10-23T07:26:16.84882Z",
          "shell.execute_reply.started": "2024-10-23T07:25:09.176061Z",
          "shell.execute_reply": "2024-10-23T07:26:16.847593Z"
        },
        "trusted": true,
        "id": "cUZUgrTp8dt8"
      },
      "outputs": [],
      "execution_count": null
    },
    {
      "cell_type": "code",
      "source": [
        "def plot_spectrogram(audio_file_path):\n",
        "    # Load the audio file\n",
        "    audio_data, sr = librosa.load(audio_file_path, sr=None)\n",
        "\n",
        "    # Compute the Short-Time Fourier Transform (STFT)\n",
        "    D = np.abs(librosa.stft(audio_data))\n",
        "\n",
        "    # Convert to decibels (log scale)\n",
        "    DB = librosa.amplitude_to_db(D, ref=np.max)\n",
        "\n",
        "    # Plot the spectrogram\n",
        "    plt.figure(figsize=(12, 4))\n",
        "    librosa.display.specshow(DB, sr=sr, x_axis='time', y_axis='log', cmap='magma')\n",
        "    plt.colorbar(format='%+2.0f dB')\n",
        "    plt.title(f\"Spectrogram - {os.path.basename(audio_file_path)}\")\n",
        "    plt.xlabel(\"Time (s)\")\n",
        "    plt.ylabel(\"Frequency (Hz)\")\n",
        "    plt.show()\n",
        "\n"
      ],
      "metadata": {
        "execution": {
          "iopub.status.busy": "2024-10-23T07:31:47.141932Z",
          "iopub.execute_input": "2024-10-23T07:31:47.142655Z",
          "iopub.status.idle": "2024-10-23T07:31:47.152168Z",
          "shell.execute_reply.started": "2024-10-23T07:31:47.142602Z",
          "shell.execute_reply": "2024-10-23T07:31:47.150638Z"
        },
        "trusted": true,
        "id": "gUcjLRNo8dt9"
      },
      "outputs": [],
      "execution_count": null
    },
    {
      "cell_type": "code",
      "source": [
        "# Iterate over the dataframe, load each audio file, and plot the spectrogram\n",
        "for ind, row in df.iterrows():\n",
        "    audio_file_path = row['file_path']\n",
        "    plot_spectrogram(audio_file_path)"
      ],
      "metadata": {
        "execution": {
          "iopub.status.busy": "2024-10-23T07:31:47.425531Z",
          "iopub.execute_input": "2024-10-23T07:31:47.426789Z",
          "iopub.status.idle": "2024-10-23T07:33:27.633882Z",
          "shell.execute_reply.started": "2024-10-23T07:31:47.426737Z",
          "shell.execute_reply": "2024-10-23T07:33:27.632684Z"
        },
        "trusted": true,
        "id": "PGnKpx4S8dt9"
      },
      "outputs": [],
      "execution_count": null
    },
    {
      "cell_type": "code",
      "source": [],
      "metadata": {
        "trusted": true,
        "id": "MjPQG1Jp8dt-"
      },
      "outputs": [],
      "execution_count": null
    }
  ]
}